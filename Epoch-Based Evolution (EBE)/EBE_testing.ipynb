{
 "cells": [
  {
   "cell_type": "code",
   "execution_count": 1,
   "metadata": {},
   "outputs": [],
   "source": [
    "import torch\n",
    "import torch.nn as nn\n",
    "import torch.optim as optim\n",
    "from torch.utils.data import DataLoader, TensorDataset\n",
    "\n",
    "from epoch_based_evolution import SearchSpace, Generation, run_generation\n",
    "import load_data"
   ]
  },
  {
   "cell_type": "markdown",
   "metadata": {},
   "source": [
    "# Load Data"
   ]
  },
  {
   "cell_type": "code",
   "execution_count": 2,
   "metadata": {},
   "outputs": [
    {
     "name": "stdout",
     "output_type": "stream",
     "text": [
      "Class column is not numeric. Applying LabelEncoder.\n",
      "Data loaded successfully! as <class 'torch.Tensor'>\n",
      "Training data shape: torch.Size([1280, 216])\n"
     ]
    }
   ],
   "source": [
    "X_train, y_train, X_val, y_val, X_test, y_test = load_data.load_openml_dataset(dataset_id=12, scaling=True, random_seed=13, return_as='tensor')\n",
    "input_size, output_size = load_data.get_tensor_sizes(X_train, y_train)"
   ]
  },
  {
   "cell_type": "code",
   "execution_count": 3,
   "metadata": {},
   "outputs": [],
   "source": [
    "search_space = SearchSpace(\n",
    "    input_size=input_size,\n",
    "    output_size=output_size,          \n",
    "    # min_layers=2,           # Minimum number of hidden layers\n",
    "    # max_layers=5,           # Maximum number of hidden layers\n",
    "    # min_neurons=16,         # Minimum neurons per layer\n",
    "    # max_neurons=256,        # Maximum neurons per layer\n",
    "    # activation_fns=[nn.ReLU, nn.LeakyReLU],  # Activation functions to sample\n",
    "    # dropout_rates=[0, 0.1, 0.2],             # Dropout rates to sample\n",
    "    # min_learning_rate=0.0001,                # Minimum learning rate\n",
    "    # max_learning_rate=0.01,                  # Maximum learning rate\n",
    "    # random_seeds=[42, 13, 2024],             # Random seeds for reproducibility\n",
    "    # min_batch_size=32,                       # Minimum batch size\n",
    "    # max_batch_size=512                       # Maximum batch size\n",
    ")\n"
   ]
  },
  {
   "cell_type": "code",
   "execution_count": 4,
   "metadata": {},
   "outputs": [
    {
     "name": "stdout",
     "output_type": "stream",
     "text": [
      "DynamicNN(\n",
      "  (network): Sequential(\n",
      "    (0): Linear(in_features=216, out_features=133, bias=True)\n",
      "    (1): ReLU()\n",
      "    (2): Linear(in_features=133, out_features=318, bias=True)\n",
      "    (3): ReLU()\n",
      "    (4): Linear(in_features=318, out_features=464, bias=True)\n",
      "    (5): ReLU()\n",
      "    (6): Linear(in_features=464, out_features=489, bias=True)\n",
      "    (7): ReLU()\n",
      "    (8): Linear(in_features=489, out_features=449, bias=True)\n",
      "    (9): ReLU()\n",
      "    (10): Linear(in_features=449, out_features=10, bias=True)\n",
      "  )\n",
      "  (criterion): CrossEntropyLoss()\n",
      ")\n"
     ]
    }
   ],
   "source": [
    "architecture = search_space.sample_architecture()\n",
    "batch_size = architecture['batch_size']\n",
    "model = search_space.create_model(architecture)\n",
    "print(model)"
   ]
  },
  {
   "cell_type": "code",
   "execution_count": 5,
   "metadata": {},
   "outputs": [],
   "source": [
    "# Create DataLoaders\n",
    "train_dataset, train_loader = load_data.create_dataset_and_loader(X_train, y_train,\n",
    "                                                        batch_size=batch_size)\n",
    "val_dataset, val_loader = load_data.create_dataset_and_loader(X_val, y_val, \n",
    "                                                    batch_size=batch_size)\n",
    "test_dataset, test_loader = load_data.create_dataset_and_loader(X_test, y_test,\n",
    "                                                      batch_size=batch_size)"
   ]
  },
  {
   "cell_type": "code",
   "execution_count": 6,
   "metadata": {},
   "outputs": [
    {
     "data": {
      "text/plain": [
       "(2.292280387878418, 0.1453125)"
      ]
     },
     "execution_count": 6,
     "metadata": {},
     "output_type": "execute_result"
    }
   ],
   "source": [
    "model.oe_train(train_loader)"
   ]
  },
  {
   "cell_type": "markdown",
   "metadata": {},
   "source": [
    "# Build the first generation"
   ]
  },
  {
   "cell_type": "code",
   "execution_count": 7,
   "metadata": {},
   "outputs": [],
   "source": [
    "# N_INDIVIDUALS = 1000\n",
    "# first_gen = Generation(search_space, n_individuals=N_INDIVIDUALS)\n",
    "# # first_gen.generation"
   ]
  },
  {
   "cell_type": "code",
   "execution_count": 8,
   "metadata": {},
   "outputs": [],
   "source": [
    "# # TRAIN THE GEN\n",
    "# first_gen.train_generation(train_loader, 1)"
   ]
  },
  {
   "cell_type": "code",
   "execution_count": 9,
   "metadata": {},
   "outputs": [],
   "source": [
    "# first_gen.validate_generation(val_loader)"
   ]
  },
  {
   "cell_type": "code",
   "execution_count": 10,
   "metadata": {},
   "outputs": [],
   "source": [
    "# first_gen.generation[0]['val_loss']"
   ]
  },
  {
   "cell_type": "code",
   "execution_count": 11,
   "metadata": {},
   "outputs": [],
   "source": [
    "# first_gen.get_worst_individuals(percentile_drop=15)\n",
    "# print(first_gen.worst_individuals)"
   ]
  },
  {
   "cell_type": "code",
   "execution_count": 12,
   "metadata": {},
   "outputs": [],
   "source": [
    "# first_gen.drop_worst_individuals()"
   ]
  },
  {
   "cell_type": "code",
   "execution_count": 13,
   "metadata": {},
   "outputs": [],
   "source": [
    "# from epoch_based_evolution import run_generation"
   ]
  },
  {
   "cell_type": "code",
   "execution_count": 14,
   "metadata": {},
   "outputs": [],
   "source": [
    "# first_gen.generation"
   ]
  },
  {
   "cell_type": "markdown",
   "metadata": {},
   "source": [
    "# Experiments"
   ]
  },
  {
   "cell_type": "code",
   "execution_count": 15,
   "metadata": {},
   "outputs": [],
   "source": [
    "import time\n",
    "import matplotlib.pyplot as plt\n",
    "import seaborn as sns\n",
    "import matplotlib as mpl"
   ]
  },
  {
   "cell_type": "code",
   "execution_count": 16,
   "metadata": {},
   "outputs": [],
   "source": [
    "plt.style.use('seaborn-v0_8-whitegrid')\n",
    "\n",
    "# Use LaTeX-style font rendering\n",
    "mpl.rcParams.update({\n",
    "    \"text.usetex\": True, \n",
    "    \"font.family\": \"serif\", \n",
    "    \"font.serif\": [\"Computer Modern\"],  # Change to [\"Computer Modern\"] if using the default LaTeX font\n",
    "    \"axes.labelsize\": 12, \n",
    "    \"axes.titlesize\": 14, \n",
    "    \"legend.fontsize\": 10,\n",
    "    \"xtick.labelsize\": 10,\n",
    "    \"ytick.labelsize\": 10\n",
    "})"
   ]
  },
  {
   "cell_type": "code",
   "execution_count": 17,
   "metadata": {},
   "outputs": [],
   "source": [
    "# number_of_epochs = 10\n",
    "# percentile_drop = 25\n",
    "# start_time = time.time()\n",
    "\n",
    "# # create a new gen\n",
    "# generation = Generation(search_space, N_INDIVIDUALS)\n",
    "# for n_epoch in range(number_of_epochs + 1):\n",
    "#     print('\\n-Epoch:', n_epoch)\n",
    "#     final_gen = run_generation(generation, train_loader, val_loader, percentile_drop=percentile_drop)\n",
    "#     # Extract val_loss values\n",
    "#     val_losses = [final_gen.generation[gen]['val_loss'] for gen in final_gen.generation]\n",
    "\n",
    "#     # Calculate the mean val_loss\n",
    "#     mean_val_loss = sum(val_losses) / len(val_losses)\n",
    "#     # Print the mean val_loss\n",
    "#     print(\"Mean val_loss:\", mean_val_loss)\n",
    "\n",
    "#     # Extract val_Accuracy values\n",
    "#     val_accuracies = [final_gen.generation[gen]['val_acc'] for gen in final_gen.generation]\n",
    "\n",
    "#     # Calculate the mean val_loss\n",
    "#     mean_val_acc = sum(val_accuracies) / len(val_accuracies)\n",
    "#     # Print the mean val_loss\n",
    "#     print(\"Mean val_acc:\", mean_val_acc)\n",
    "    \n",
    "#     print('Survivor models:', len(final_gen.generation))\n",
    "\n",
    "# final_time = time.time() - start_time\n",
    "# print('Total time:', final_time)\n"
   ]
  },
  {
   "cell_type": "code",
   "execution_count": 18,
   "metadata": {},
   "outputs": [],
   "source": [
    "import time\n",
    "import matplotlib.pyplot as plt\n",
    "import seaborn as sns\n"
   ]
  },
  {
   "cell_type": "code",
   "execution_count": 19,
   "metadata": {},
   "outputs": [
    {
     "name": "stdout",
     "output_type": "stream",
     "text": [
      "\n",
      "-Epoch: 0\n",
      "Survivor models: 3750\n",
      "\n",
      "-Epoch: 1\n",
      "Survivor models: 2813\n",
      "\n",
      "-Epoch: 2\n",
      "Survivor models: 2054\n",
      "\n",
      "-Epoch: 3\n",
      "Survivor models: 1459\n",
      "\n",
      "-Epoch: 4\n",
      "Survivor models: 1007\n",
      "\n",
      "-Epoch: 5\n",
      "Survivor models: 675\n",
      "\n",
      "-Epoch: 6\n",
      "Survivor models: 439\n",
      "\n",
      "-Epoch: 7\n",
      "Survivor models: 277\n",
      "\n",
      "-Epoch: 8\n",
      "Survivor models: 169\n",
      "\n",
      "-Epoch: 9\n",
      "Survivor models: 100\n",
      "\n",
      "-Epoch: 10\n",
      "Survivor models: 57\n",
      "\n",
      "-Epoch: 11\n",
      "Survivor models: 32\n",
      "\n",
      "-Epoch: 12\n",
      "Survivor models: 17\n",
      "\n",
      "-Epoch: 13\n",
      "Survivor models: 9\n",
      "\n",
      "-Epoch: 14\n",
      "Survivor models: 5\n",
      "\n",
      "-Epoch: 15\n",
      "Survivor models: 3\n",
      "Final_time: 368.70212149620056\n"
     ]
    }
   ],
   "source": [
    "number_of_epochs = 15\n",
    "percentile_drop = 25\n",
    "start_time = time.time()\n",
    "N_INDIVIDUALS = 5000\n",
    "\n",
    "# Data storage for scatter plot\n",
    "epoch_list = []\n",
    "val_acc_list = []\n",
    "val_loss_list = []\n",
    "\n",
    "# Dictionary to count models per epoch\n",
    "model_counts = {}\n",
    "start_time = time.time()\n",
    "generation = Generation(search_space, N_INDIVIDUALS)\n",
    "\n",
    "for n_epoch in range(number_of_epochs + 1):\n",
    "    print('\\n-Epoch:', n_epoch)\n",
    "    final_gen = run_generation(generation, train_loader, val_loader, percentile_drop=percentile_drop)\n",
    "    \n",
    "    num_models = len(final_gen.generation)\n",
    "    model_counts[n_epoch] = num_models  # Store model count per epoch\n",
    "\n",
    "    # Store all models' results\n",
    "    for model_id in final_gen.generation:\n",
    "        val_acc_list.append(final_gen.generation[model_id]['val_acc'])\n",
    "        val_loss_list.append(final_gen.generation[model_id]['val_loss'])\n",
    "        epoch_list.append(n_epoch)\n",
    "\n",
    "    print(f\"Survivor models: {num_models}\")\n",
    "    percentile_drop = 25 + n_epoch * 2  # Increase the percentile drop each epoch\n",
    "final_time = time.time() - start_time\n",
    "print('Final_time:', final_time)"
   ]
  },
  {
   "cell_type": "code",
   "execution_count": 20,
   "metadata": {},
   "outputs": [
    {
     "data": {
      "image/png": "[encoded data removed]",
      "text/plain": [
       "<Figure size 1000x500 with 1 Axes>"
      ]
     },
     "metadata": {},
     "output_type": "display_data"
    }
   ],
   "source": [
    "\n",
    "# Scatter plot for Accuracy\n",
    "plt.figure(figsize=(10, 5))\n",
    "sns.scatterplot(x=epoch_list, y=val_acc_list, alpha=0.4, edgecolor='white')\n",
    "\n",
    "# Add model count annotations\n",
    "for epoch, count in model_counts.items():\n",
    "    plt.text(epoch, 0.9, str(count), ha='center', va='bottom', fontsize=10, color='black', transform=plt.gca().transData)\n",
    "\n",
    "plt.xlabel('Epoch')\n",
    "plt.ylabel('Precisión de Validación')\n",
    "plt.title('Progresión de Precisión de los Modelos')\n",
    "plt.ylim(0, 1)\n",
    "plt.show()"
   ]
  },
  {
   "cell_type": "code",
   "execution_count": 21,
   "metadata": {},
   "outputs": [],
   "source": [
    "final_gen.train_generation(train_loader, num_epochs=50)"
   ]
  },
  {
   "cell_type": "code",
   "execution_count": 22,
   "metadata": {},
   "outputs": [
    {
     "name": "stdout",
     "output_type": "stream",
     "text": [
      "Mean val_acc: 0.946875\n"
     ]
    }
   ],
   "source": [
    "# Extract val_Accuracy values\n",
    "val_accuracies = [final_gen.generation[gen]['val_acc'] for gen in final_gen.generation]\n",
    "\n",
    "# Calculate the mean val_loss\n",
    "mean_val_acc = sum(val_accuracies) / len(val_accuracies)\n",
    "# Print the mean val_loss\n",
    "print(\"Mean val_acc:\", mean_val_acc)"
   ]
  },
  {
   "cell_type": "code",
   "execution_count": 33,
   "metadata": {},
   "outputs": [
    {
     "data": {
      "text/plain": [
       "<Axes: >"
      ]
     },
     "execution_count": 33,
     "metadata": {},
     "output_type": "execute_result"
    },
    {
     "data": {
      "image/png": "[encoded data removed]",
      "text/plain": [
       "<Figure size 300x500 with 1 Axes>"
      ]
     },
     "metadata": {},
     "output_type": "display_data"
    }
   ],
   "source": [
    "plt.figure(figsize=(3,5))\n",
    "sns.boxplot(val_accuracies)"
   ]
  },
  {
   "cell_type": "code",
   "execution_count": 23,
   "metadata": {},
   "outputs": [],
   "source": [
    "final_gen.drop_all_except_best()\n",
    "final_gen.train_best_individual(train_loader, num_epochs=50)"
   ]
  },
  {
   "cell_type": "code",
   "execution_count": 24,
   "metadata": {},
   "outputs": [
    {
     "data": {
      "text/plain": [
       "{'model': DynamicNN(\n",
       "   (network): Sequential(\n",
       "     (0): Linear(in_features=216, out_features=287, bias=True)\n",
       "     (1): LeakyReLU(negative_slope=0.01)\n",
       "     (2): Dropout(p=0.5, inplace=False)\n",
       "     (3): Linear(in_features=287, out_features=389, bias=True)\n",
       "     (4): LeakyReLU(negative_slope=0.01)\n",
       "     (5): Dropout(p=0.5, inplace=False)\n",
       "     (6): Linear(in_features=389, out_features=325, bias=True)\n",
       "     (7): LeakyReLU(negative_slope=0.01)\n",
       "     (8): Dropout(p=0.5, inplace=False)\n",
       "     (9): Linear(in_features=325, out_features=10, bias=True)\n",
       "   )\n",
       "   (criterion): CrossEntropyLoss()\n",
       " ),\n",
       " 'architecture': {'hidden_layers': [287, 389, 325],\n",
       "  'activation_fn': torch.nn.modules.activation.LeakyReLU,\n",
       "  'dropout_rate': 0.5,\n",
       "  'optimizer_type': torch.optim.adam.Adam,\n",
       "  'learning_rate': 0.003822040796383871,\n",
       "  'batch_size': 256,\n",
       "  'random_seed': 1337},\n",
       " 'train_loss': 0.016787918284535408,\n",
       " 'train_acc': 0.99375,\n",
       " 'val_loss': 0.16033610701560974,\n",
       " 'val_acc': 0.95625}"
      ]
     },
     "execution_count": 24,
     "metadata": {},
     "output_type": "execute_result"
    }
   ],
   "source": [
    "final_gen.generation[0]"
   ]
  },
  {
   "cell_type": "code",
   "execution_count": 25,
   "metadata": {},
   "outputs": [],
   "source": [
    "test_loss, test_accuracy = final_gen.generation[0]['model'].evaluate(test_loader)"
   ]
  },
  {
   "cell_type": "code",
   "execution_count": 26,
   "metadata": {},
   "outputs": [
    {
     "data": {
      "text/plain": [
       "(0.1422114223241806, 0.9675)"
      ]
     },
     "execution_count": 26,
     "metadata": {},
     "output_type": "execute_result"
    }
   ],
   "source": [
    "test_loss, test_accuracy"
   ]
  }
 ],
 "metadata": {
  "kernelspec": {
   "display_name": "AutoML",
   "language": "python",
   "name": "python3"
  },
  "language_info": {
   "codemirror_mode": {
    "name": "ipython",
    "version": 3
   },
   "file_extension": ".py",
   "mimetype": "text/x-python",
   "name": "python",
   "nbconvert_exporter": "python",
   "pygments_lexer": "ipython3",
   "version": "3.11.11"
  }
 },
 "nbformat": 4,
 "nbformat_minor": 2
}
