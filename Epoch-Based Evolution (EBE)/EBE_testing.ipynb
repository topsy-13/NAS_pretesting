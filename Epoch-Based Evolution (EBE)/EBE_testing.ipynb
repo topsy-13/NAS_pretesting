{
 "cells": [
  {
   "cell_type": "code",
   "execution_count": 1,
   "metadata": {},
   "outputs": [],
   "source": [
    "import torch\n",
    "import torch.nn as nn\n",
    "import torch.optim as optim\n",
    "from torch.utils.data import DataLoader, TensorDataset\n",
    "\n",
    "from epoch_based_evolution import SearchSpace\n",
    "import load_data"
   ]
  },
  {
   "cell_type": "markdown",
   "metadata": {},
   "source": [
    "# Load Data"
   ]
  },
  {
   "cell_type": "code",
   "execution_count": null,
   "metadata": {},
   "outputs": [
    {
     "name": "stdout",
     "output_type": "stream",
     "text": [
      "Class column is not numeric. Applying LabelEncoder.\n",
      "Data loaded successfully! as <class 'torch.Tensor'>\n",
      "Training data shape: torch.Size([384, 6])\n"
     ]
    }
   ],
   "source": [
    "X_train, y_train, X_val, y_val, X_test, y_test = load_data.load_openml_dataset(dataset_id=334, scaling=True, random_seed=None, return_as='tensor')\n",
    "input_size, output_size = load_data.get_tensor_sizes(X_train, y_train)"
   ]
  },
  {
   "cell_type": "code",
   "execution_count": 7,
   "metadata": {},
   "outputs": [],
   "source": [
    "search_space = SearchSpace(\n",
    "    input_size=input_size,\n",
    "    output_size=output_size,          \n",
    "    # min_layers=2,           # Minimum number of hidden layers\n",
    "    # max_layers=5,           # Maximum number of hidden layers\n",
    "    # min_neurons=16,         # Minimum neurons per layer\n",
    "    # max_neurons=256,        # Maximum neurons per layer\n",
    "    # activation_fns=[nn.ReLU, nn.LeakyReLU],  # Activation functions to sample\n",
    "    # dropout_rates=[0, 0.1, 0.2],             # Dropout rates to sample\n",
    "    # min_learning_rate=0.0001,                # Minimum learning rate\n",
    "    # max_learning_rate=0.01,                  # Maximum learning rate\n",
    "    # random_seeds=[42, 13, 2024],             # Random seeds for reproducibility\n",
    "    # min_batch_size=32,                       # Minimum batch size\n",
    "    # max_batch_size=512                       # Maximum batch size\n",
    ")\n"
   ]
  },
  {
   "cell_type": "code",
   "execution_count": 337,
   "metadata": {},
   "outputs": [
    {
     "data": {
      "text/plain": [
       "DynamicNN(\n",
       "  (network): Sequential(\n",
       "    (0): Linear(in_features=6, out_features=16, bias=True)\n",
       "    (1): Sigmoid()\n",
       "    (2): Dropout(p=0.2, inplace=False)\n",
       "    (3): Linear(in_features=16, out_features=407, bias=True)\n",
       "    (4): Sigmoid()\n",
       "    (5): Dropout(p=0.2, inplace=False)\n",
       "    (6): Linear(in_features=407, out_features=2, bias=True)\n",
       "  )\n",
       "  (criterion): CrossEntropyLoss()\n",
       ")"
      ]
     },
     "execution_count": 337,
     "metadata": {},
     "output_type": "execute_result"
    }
   ],
   "source": [
    "architecture = search_space.sample_architecture()\n",
    "batch_size = architecture['batch_size']\n",
    "search_space.create_model(architecture)\n"
   ]
  },
  {
   "cell_type": "code",
   "execution_count": 340,
   "metadata": {},
   "outputs": [],
   "source": [
    "# Create DataLoaders\n",
    "train_dataset, train_loader = load_data.create_dataset_and_loader(X_train, y_train,\n",
    "                                                        batch_size=batch_size)\n",
    "val_dataset, val_loader = load_data.create_dataset_and_loader(X_val, y_val, \n",
    "                                                    batch_size=batch_size)\n",
    "test_dataset, test_loader = load_data.create_dataset_and_loader(X_test, y_test,\n",
    "                                                      batch_size=batch_size)"
   ]
  }
 ],
 "metadata": {
  "kernelspec": {
   "display_name": "AutoML",
   "language": "python",
   "name": "python3"
  },
  "language_info": {
   "codemirror_mode": {
    "name": "ipython",
    "version": 3
   },
   "file_extension": ".py",
   "mimetype": "text/x-python",
   "name": "python",
   "nbconvert_exporter": "python",
   "pygments_lexer": "ipython3",
   "version": "3.11.11"
  }
 },
 "nbformat": 4,
 "nbformat_minor": 2
}
