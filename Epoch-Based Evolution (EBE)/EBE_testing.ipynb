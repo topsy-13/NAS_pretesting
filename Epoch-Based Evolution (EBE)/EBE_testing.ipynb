{
 "cells": [
  {
   "cell_type": "code",
   "execution_count": 1,
   "metadata": {},
   "outputs": [],
   "source": [
    "import torch\n",
    "import torch.nn as nn\n",
    "import torch.optim as optim\n",
    "from torch.utils.data import DataLoader, TensorDataset\n",
    "\n",
    "from epoch_based_evolution import SearchSpace, Generation, run_generation\n",
    "import load_data"
   ]
  },
  {
   "cell_type": "markdown",
   "metadata": {},
   "source": [
    "# Load Data"
   ]
  },
  {
   "cell_type": "code",
   "execution_count": 2,
   "metadata": {},
   "outputs": [
    {
     "name": "stdout",
     "output_type": "stream",
     "text": [
      "Class column is not numeric. Applying LabelEncoder.\n",
      "Data loaded successfully! Format: tensor\n",
      "Training data shape: torch.Size([1280, 216])\n"
     ]
    }
   ],
   "source": [
    "X_train, y_train, X_val, y_val, X_test, y_test = load_data.get_preprocessed_data(dataset_id=12, scaling=True, random_seed=13, return_as='tensor')\n",
    "input_size, output_size = load_data.get_tensor_sizes(X_train, y_train)"
   ]
  },
  {
   "cell_type": "code",
   "execution_count": 3,
   "metadata": {},
   "outputs": [],
   "source": [
    "search_space = SearchSpace(\n",
    "    input_size=input_size,\n",
    "    output_size=output_size,          \n",
    "    # min_layers=2,           # Minimum number of hidden layers\n",
    "    # max_layers=5,           # Maximum number of hidden layers\n",
    "    # min_neurons=16,         # Minimum neurons per layer\n",
    "    # max_neurons=256,        # Maximum neurons per layer\n",
    "    # activation_fns=[nn.ReLU, nn.LeakyReLU],  # Activation functions to sample\n",
    "    # dropout_rates=[0, 0.1, 0.2],             # Dropout rates to sample\n",
    "    # min_learning_rate=0.0001,                # Minimum learning rate\n",
    "    # max_learning_rate=0.01,                  # Maximum learning rate\n",
    "    # random_seeds=[42, 13, 2024],             # Random seeds for reproducibility\n",
    "    # min_batch_size=32,                       # Minimum batch size\n",
    "    # max_batch_size=512                       # Maximum batch size\n",
    ")\n"
   ]
  },
  {
   "cell_type": "markdown",
   "metadata": {},
   "source": [
    "# Build the first generation"
   ]
  },
  {
   "cell_type": "markdown",
   "metadata": {},
   "source": [
    "# Experiments"
   ]
  },
  {
   "cell_type": "code",
   "execution_count": 4,
   "metadata": {},
   "outputs": [],
   "source": [
    "import matplotlib.pyplot as plt\n",
    "import seaborn as sns\n",
    "import matplotlib as mpl\n",
    "import time"
   ]
  },
  {
   "cell_type": "code",
   "execution_count": 19,
   "metadata": {},
   "outputs": [],
   "source": [
    "plt.style.use('seaborn-v0_8-whitegrid')\n",
    "\n",
    "# Use LaTeX-style font rendering\n",
    "mpl.rcParams.update({\n",
    "    \"text.usetex\": True, \n",
    "    \"font.family\": \"serif\", \n",
    "    \"font.serif\": [\"Computer Modern\"], \n",
    "    \"axes.labelsize\": 12, \n",
    "    \"axes.titlesize\": 14, \n",
    "    \"legend.fontsize\": 10,\n",
    "    \"xtick.labelsize\": 10,\n",
    "    \"ytick.labelsize\": 10\n",
    "})"
   ]
  },
  {
   "cell_type": "code",
   "execution_count": 6,
   "metadata": {},
   "outputs": [],
   "source": [
    "import numpy as np"
   ]
  },
  {
   "cell_type": "code",
   "execution_count": 7,
   "metadata": {},
   "outputs": [
    {
     "name": "stdout",
     "output_type": "stream",
     "text": [
      "\n",
      "-Epoch: 0\n",
      "Survivor models: 2125\n",
      "Val_Acc mean: 0.31295\n",
      "\n",
      "-Epoch: 1\n",
      "Survivor models: 1807\n",
      "Val_Acc mean: 0.36287751144455743\n",
      "\n",
      "-Epoch: 2\n",
      "Survivor models: 1536\n",
      "Val_Acc mean: 0.40926469915874175\n",
      "\n",
      "-Epoch: 3\n",
      "Survivor models: 1306\n",
      "Val_Acc mean: 0.45404210953646296\n",
      "\n",
      "-Epoch: 4\n",
      "Survivor models: 1111\n",
      "Val_Acc mean: 0.49753368738110343\n",
      "\n",
      "-Epoch: 5\n",
      "Survivor models: 945\n",
      "Val_Acc mean: 0.5357644394110984\n",
      "\n",
      "-Epoch: 6\n",
      "Survivor models: 804\n",
      "Val_Acc mean: 0.5672377776624454\n",
      "\n",
      "-Epoch: 7\n",
      "Survivor models: 684\n",
      "Val_Acc mean: 0.5914751526458615\n",
      "\n",
      "-Epoch: 8\n",
      "Survivor models: 582\n",
      "Val_Acc mean: 0.6101659977064219\n",
      "\n",
      "-Epoch: 9\n",
      "Survivor models: 495\n",
      "Val_Acc mean: 0.6247548266783677\n",
      "\n",
      "-Epoch: 10\n",
      "Survivor models: 421\n",
      "Val_Acc mean: 0.6362884542146242\n",
      "Final_time: 877.1186947822571\n"
     ]
    }
   ],
   "source": [
    "number_of_epochs = 10\n",
    "percentile_drop = 25\n",
    "start_time = time.time()\n",
    "N_INDIVIDUALS = 2500\n",
    "\n",
    "# Data storage for scatter plot\n",
    "epoch_list = []\n",
    "val_acc_list = []\n",
    "val_loss_list = []\n",
    "\n",
    "# Dictionary to count models per epoch\n",
    "model_counts = {}\n",
    "start_time = time.time()\n",
    "generation = Generation(search_space, N_INDIVIDUALS)\n",
    "\n",
    "for n_epoch in range(number_of_epochs + 1):\n",
    "    print('\\n-Epoch:', n_epoch)\n",
    "    final_gen = run_generation(generation, \n",
    "                   X_train, y_train, X_val, y_val)\n",
    "    \n",
    "    num_models = len(final_gen.generation)\n",
    "    model_counts[n_epoch] = num_models  # Store model count per epoch\n",
    "\n",
    "    # Store all models' results\n",
    "    for model_id in final_gen.generation:\n",
    "        val_acc_list.append(final_gen.generation[model_id]['val_acc'])\n",
    "        val_loss_list.append(final_gen.generation[model_id]['val_loss'])\n",
    "        epoch_list.append(n_epoch)\n",
    "\n",
    "    print(f\"Survivor models: {num_models}\")\n",
    "    print(f'Val_Acc mean: {np.mean(val_acc_list)}')\n",
    "    percentile_drop = 25 + n_epoch * 2  # Increase the percentile drop each epoch\n",
    "final_time = time.time() - start_time\n",
    "print('Final_time:', final_time)"
   ]
  },
  {
   "cell_type": "code",
   "execution_count": 17,
   "metadata": {},
   "outputs": [],
   "source": [
    "plt.style.use('fast')"
   ]
  },
  {
   "cell_type": "code",
   "execution_count": 20,
   "metadata": {},
   "outputs": [
    {
     "data": {
      "image/png": "[encoded data removed]",
      "text/plain": [
       "<Figure size 1000x500 with 1 Axes>"
      ]
     },
     "metadata": {},
     "output_type": "display_data"
    }
   ],
   "source": [
    "\n",
    "# Scatter plot for Accuracy\n",
    "plt.figure(figsize=(10, 5))\n",
    "sns.scatterplot(x=epoch_list, y=val_acc_list, alpha=0.4, edgecolor='white')\n",
    "\n",
    "# Add model count annotations\n",
    "for epoch, count in model_counts.items():\n",
    "    plt.text(epoch, 0.9, str(count), ha='center', va='bottom', fontsize=10, color='black', transform=plt.gca().transData)\n",
    "\n",
    "plt.xlabel('Epoch')\n",
    "plt.ylabel('Precisión de Validación')\n",
    "plt.title('Progresión de Precisión de los Modelos')\n",
    "plt.ylim(0, 1)\n",
    "plt.show()"
   ]
  },
  {
   "cell_type": "code",
   "execution_count": 10,
   "metadata": {},
   "outputs": [
    {
     "data": {
      "application/vnd.microsoft.datawrangler.viewer.v0+json": {
       "columns": [
        {
         "name": "index",
         "rawType": "int64",
         "type": "integer"
        },
        {
         "name": "architecture",
         "rawType": "object",
         "type": "unknown"
        }
       ],
       "conversionMethod": "pd.DataFrame",
       "ref": "fc059756-1465-41fa-a5a4-8d87324f8144",
       "rows": [
        [
         "0",
         "{'hidden_layers': [99, 321, 349], 'activation_fn': <class 'torch.nn.modules.activation.ReLU'>, 'dropout_rate': 0.5, 'optimizer_type': <class 'torch.optim.adam.Adam'>, 'learning_rate': 0.008989393223299048, 'batch_size': 1024, 'random_seed': 777}"
        ],
        [
         "1",
         "{'hidden_layers': [306, 181, 104], 'activation_fn': <class 'torch.nn.modules.activation.ReLU'>, 'dropout_rate': 0.2, 'optimizer_type': <class 'torch.optim.adam.Adam'>, 'learning_rate': 0.0014779839212331872, 'batch_size': 128, 'random_seed': 1337}"
        ],
        [
         "2",
         "{'hidden_layers': [453, 32, 171, 244], 'activation_fn': <class 'torch.nn.modules.activation.LeakyReLU'>, 'dropout_rate': 0.1, 'optimizer_type': <class 'torch.optim.adam.Adam'>, 'learning_rate': 0.005936734923305848, 'batch_size': 1024, 'random_seed': 1337}"
        ],
        [
         "3",
         "{'hidden_layers': [296, 68], 'activation_fn': <class 'torch.nn.modules.activation.ReLU'>, 'dropout_rate': 0, 'optimizer_type': <class 'torch.optim.adam.Adam'>, 'learning_rate': 0.0047853303185405975, 'batch_size': 512, 'random_seed': 777}"
        ],
        [
         "4",
         "{'hidden_layers': [167, 205, 311], 'activation_fn': <class 'torch.nn.modules.activation.LeakyReLU'>, 'dropout_rate': 0.1, 'optimizer_type': <class 'torch.optim.adam.Adam'>, 'learning_rate': 0.005680205073263217, 'batch_size': 512, 'random_seed': 1337}"
        ],
        [
         "5",
         "{'hidden_layers': [256, 436, 412, 242], 'activation_fn': <class 'torch.nn.modules.activation.LeakyReLU'>, 'dropout_rate': 0.2, 'optimizer_type': <class 'torch.optim.adam.Adam'>, 'learning_rate': 0.0015828043635913473, 'batch_size': 1024, 'random_seed': 13}"
        ],
        [
         "6",
         "{'hidden_layers': [246, 38, 228], 'activation_fn': <class 'torch.nn.modules.activation.Sigmoid'>, 'dropout_rate': 0.2, 'optimizer_type': <class 'torch.optim.adam.Adam'>, 'learning_rate': 0.00833334077879208, 'batch_size': 64, 'random_seed': 777}"
        ],
        [
         "7",
         "{'hidden_layers': [149, 118, 275, 407, 457], 'activation_fn': <class 'torch.nn.modules.activation.LeakyReLU'>, 'dropout_rate': 0.1, 'optimizer_type': <class 'torch.optim.adam.Adam'>, 'learning_rate': 0.002908217178417099, 'batch_size': 1024, 'random_seed': 2024}"
        ],
        [
         "8",
         "{'hidden_layers': [264, 287], 'activation_fn': <class 'torch.nn.modules.activation.Sigmoid'>, 'dropout_rate': 0, 'optimizer_type': <class 'torch.optim.adam.Adam'>, 'learning_rate': 0.0018926119496669354, 'batch_size': 128, 'random_seed': 13}"
        ],
        [
         "9",
         "{'hidden_layers': [449, 385], 'activation_fn': <class 'torch.nn.modules.activation.LeakyReLU'>, 'dropout_rate': 0, 'optimizer_type': <class 'torch.optim.adam.Adam'>, 'learning_rate': 0.008625693432139073, 'batch_size': 128, 'random_seed': 13}"
        ],
        [
         "10",
         "{'hidden_layers': [457, 113, 196, 118, 406], 'activation_fn': <class 'torch.nn.modules.activation.ReLU'>, 'dropout_rate': 0, 'optimizer_type': <class 'torch.optim.adam.Adam'>, 'learning_rate': 0.001297053496128888, 'batch_size': 32, 'random_seed': 1337}"
        ],
        [
         "11",
         "{'hidden_layers': [382, 357], 'activation_fn': <class 'torch.nn.modules.activation.Sigmoid'>, 'dropout_rate': 0, 'optimizer_type': <class 'torch.optim.adam.Adam'>, 'learning_rate': 0.006272955545877644, 'batch_size': 256, 'random_seed': 13}"
        ],
        [
         "12",
         "{'hidden_layers': [68, 159], 'activation_fn': <class 'torch.nn.modules.activation.Sigmoid'>, 'dropout_rate': 0.5, 'optimizer_type': <class 'torch.optim.adam.Adam'>, 'learning_rate': 0.009321351791109486, 'batch_size': 32, 'random_seed': 42}"
        ],
        [
         "13",
         "{'hidden_layers': [76, 268], 'activation_fn': <class 'torch.nn.modules.activation.ReLU'>, 'dropout_rate': 0.1, 'optimizer_type': <class 'torch.optim.adam.Adam'>, 'learning_rate': 0.00743825217005341, 'batch_size': 32, 'random_seed': 1337}"
        ],
        [
         "14",
         "{'hidden_layers': [62, 406, 258], 'activation_fn': <class 'torch.nn.modules.activation.ReLU'>, 'dropout_rate': 0, 'optimizer_type': <class 'torch.optim.adam.Adam'>, 'learning_rate': 0.0015442639178863248, 'batch_size': 256, 'random_seed': 2024}"
        ],
        [
         "15",
         "{'hidden_layers': [144, 502], 'activation_fn': <class 'torch.nn.modules.activation.Sigmoid'>, 'dropout_rate': 0, 'optimizer_type': <class 'torch.optim.adam.Adam'>, 'learning_rate': 0.007941761497032258, 'batch_size': 512, 'random_seed': 777}"
        ],
        [
         "16",
         "{'hidden_layers': [303, 481, 64, 82], 'activation_fn': <class 'torch.nn.modules.activation.LeakyReLU'>, 'dropout_rate': 0, 'optimizer_type': <class 'torch.optim.adam.Adam'>, 'learning_rate': 0.007268081627638771, 'batch_size': 1024, 'random_seed': 2024}"
        ],
        [
         "17",
         "{'hidden_layers': [96, 240, 202, 63], 'activation_fn': <class 'torch.nn.modules.activation.ReLU'>, 'dropout_rate': 0.2, 'optimizer_type': <class 'torch.optim.adam.Adam'>, 'learning_rate': 0.0026428723930180826, 'batch_size': 256, 'random_seed': 777}"
        ],
        [
         "18",
         "{'hidden_layers': [245, 275], 'activation_fn': <class 'torch.nn.modules.activation.ReLU'>, 'dropout_rate': 0, 'optimizer_type': <class 'torch.optim.adam.Adam'>, 'learning_rate': 0.004573539296516118, 'batch_size': 256, 'random_seed': 1337}"
        ],
        [
         "19",
         "{'hidden_layers': [254, 133, 438], 'activation_fn': <class 'torch.nn.modules.activation.LeakyReLU'>, 'dropout_rate': 0, 'optimizer_type': <class 'torch.optim.adam.Adam'>, 'learning_rate': 0.00915860387271826, 'batch_size': 256, 'random_seed': 2024}"
        ],
        [
         "20",
         "{'hidden_layers': [138, 120], 'activation_fn': <class 'torch.nn.modules.activation.LeakyReLU'>, 'dropout_rate': 0.1, 'optimizer_type': <class 'torch.optim.adam.Adam'>, 'learning_rate': 0.008164607360803731, 'batch_size': 256, 'random_seed': 13}"
        ],
        [
         "21",
         "{'hidden_layers': [62, 318], 'activation_fn': <class 'torch.nn.modules.activation.ReLU'>, 'dropout_rate': 0, 'optimizer_type': <class 'torch.optim.adam.Adam'>, 'learning_rate': 0.0031539958732628797, 'batch_size': 64, 'random_seed': 42}"
        ],
        [
         "22",
         "{'hidden_layers': [330, 323], 'activation_fn': <class 'torch.nn.modules.activation.LeakyReLU'>, 'dropout_rate': 0, 'optimizer_type': <class 'torch.optim.adam.Adam'>, 'learning_rate': 0.008367057612745425, 'batch_size': 256, 'random_seed': 13}"
        ],
        [
         "23",
         "{'hidden_layers': [446, 69, 331], 'activation_fn': <class 'torch.nn.modules.activation.LeakyReLU'>, 'dropout_rate': 0.5, 'optimizer_type': <class 'torch.optim.adam.Adam'>, 'learning_rate': 0.0024685341663377366, 'batch_size': 512, 'random_seed': 1337}"
        ],
        [
         "24",
         "{'hidden_layers': [363, 123, 86, 82, 476, 447, 168], 'activation_fn': <class 'torch.nn.modules.activation.LeakyReLU'>, 'dropout_rate': 0.2, 'optimizer_type': <class 'torch.optim.adam.Adam'>, 'learning_rate': 0.0010977047858934162, 'batch_size': 128, 'random_seed': 2024}"
        ],
        [
         "25",
         "{'hidden_layers': [388, 381], 'activation_fn': <class 'torch.nn.modules.activation.Sigmoid'>, 'dropout_rate': 0.2, 'optimizer_type': <class 'torch.optim.adam.Adam'>, 'learning_rate': 0.0067987418769001415, 'batch_size': 32, 'random_seed': 42}"
        ],
        [
         "26",
         "{'hidden_layers': [354, 19], 'activation_fn': <class 'torch.nn.modules.activation.LeakyReLU'>, 'dropout_rate': 0.1, 'optimizer_type': <class 'torch.optim.adam.Adam'>, 'learning_rate': 0.005331241908776845, 'batch_size': 1024, 'random_seed': 13}"
        ],
        [
         "27",
         "{'hidden_layers': [37, 493], 'activation_fn': <class 'torch.nn.modules.activation.LeakyReLU'>, 'dropout_rate': 0.1, 'optimizer_type': <class 'torch.optim.adam.Adam'>, 'learning_rate': 0.006163184723576265, 'batch_size': 64, 'random_seed': 13}"
        ],
        [
         "28",
         "{'hidden_layers': [433, 149], 'activation_fn': <class 'torch.nn.modules.activation.LeakyReLU'>, 'dropout_rate': 0.1, 'optimizer_type': <class 'torch.optim.adam.Adam'>, 'learning_rate': 0.0033819213365505994, 'batch_size': 1024, 'random_seed': 777}"
        ],
        [
         "29",
         "{'hidden_layers': [492, 180, 212, 320, 205, 137], 'activation_fn': <class 'torch.nn.modules.activation.LeakyReLU'>, 'dropout_rate': 0.2, 'optimizer_type': <class 'torch.optim.adam.Adam'>, 'learning_rate': 0.0023598313267173925, 'batch_size': 32, 'random_seed': 777}"
        ],
        [
         "30",
         "{'hidden_layers': [336, 318], 'activation_fn': <class 'torch.nn.modules.activation.ReLU'>, 'dropout_rate': 0, 'optimizer_type': <class 'torch.optim.adam.Adam'>, 'learning_rate': 0.0047259845250730605, 'batch_size': 512, 'random_seed': 1337}"
        ],
        [
         "31",
         "{'hidden_layers': [386, 320], 'activation_fn': <class 'torch.nn.modules.activation.LeakyReLU'>, 'dropout_rate': 0.5, 'optimizer_type': <class 'torch.optim.adam.Adam'>, 'learning_rate': 0.0038321906864824873, 'batch_size': 512, 'random_seed': 13}"
        ],
        [
         "32",
         "{'hidden_layers': [137, 175, 151, 168, 197], 'activation_fn': <class 'torch.nn.modules.activation.LeakyReLU'>, 'dropout_rate': 0.2, 'optimizer_type': <class 'torch.optim.adam.Adam'>, 'learning_rate': 0.0030347899747093796, 'batch_size': 512, 'random_seed': 1337}"
        ],
        [
         "33",
         "{'hidden_layers': [217, 323, 74], 'activation_fn': <class 'torch.nn.modules.activation.ReLU'>, 'dropout_rate': 0.1, 'optimizer_type': <class 'torch.optim.adam.Adam'>, 'learning_rate': 0.0012449326487197795, 'batch_size': 32, 'random_seed': 2024}"
        ],
        [
         "34",
         "{'hidden_layers': [26, 215, 309], 'activation_fn': <class 'torch.nn.modules.activation.LeakyReLU'>, 'dropout_rate': 0.2, 'optimizer_type': <class 'torch.optim.adam.Adam'>, 'learning_rate': 0.007973788172213857, 'batch_size': 32, 'random_seed': 13}"
        ],
        [
         "35",
         "{'hidden_layers': [269, 357], 'activation_fn': <class 'torch.nn.modules.activation.LeakyReLU'>, 'dropout_rate': 0.2, 'optimizer_type': <class 'torch.optim.adam.Adam'>, 'learning_rate': 0.008541764499814686, 'batch_size': 1024, 'random_seed': 13}"
        ],
        [
         "36",
         "{'hidden_layers': [157, 101, 373], 'activation_fn': <class 'torch.nn.modules.activation.Sigmoid'>, 'dropout_rate': 0.2, 'optimizer_type': <class 'torch.optim.adam.Adam'>, 'learning_rate': 0.005785614494108681, 'batch_size': 64, 'random_seed': 777}"
        ],
        [
         "37",
         "{'hidden_layers': [461, 478], 'activation_fn': <class 'torch.nn.modules.activation.LeakyReLU'>, 'dropout_rate': 0.2, 'optimizer_type': <class 'torch.optim.adam.Adam'>, 'learning_rate': 0.0015548213310301589, 'batch_size': 64, 'random_seed': 1337}"
        ],
        [
         "38",
         "{'hidden_layers': [73, 143], 'activation_fn': <class 'torch.nn.modules.activation.Sigmoid'>, 'dropout_rate': 0.5, 'optimizer_type': <class 'torch.optim.adam.Adam'>, 'learning_rate': 0.008664730368007821, 'batch_size': 64, 'random_seed': 777}"
        ],
        [
         "39",
         "{'hidden_layers': [163, 421], 'activation_fn': <class 'torch.nn.modules.activation.LeakyReLU'>, 'dropout_rate': 0.2, 'optimizer_type': <class 'torch.optim.adam.Adam'>, 'learning_rate': 0.007886341247336753, 'batch_size': 128, 'random_seed': 13}"
        ],
        [
         "40",
         "{'hidden_layers': [175, 186, 296, 398], 'activation_fn': <class 'torch.nn.modules.activation.ReLU'>, 'dropout_rate': 0.5, 'optimizer_type': <class 'torch.optim.adam.Adam'>, 'learning_rate': 0.003873205508544302, 'batch_size': 1024, 'random_seed': 42}"
        ],
        [
         "41",
         "{'hidden_layers': [463, 307], 'activation_fn': <class 'torch.nn.modules.activation.Sigmoid'>, 'dropout_rate': 0, 'optimizer_type': <class 'torch.optim.adam.Adam'>, 'learning_rate': 0.008896502044230991, 'batch_size': 512, 'random_seed': 1337}"
        ],
        [
         "42",
         "{'hidden_layers': [302, 168], 'activation_fn': <class 'torch.nn.modules.activation.LeakyReLU'>, 'dropout_rate': 0, 'optimizer_type': <class 'torch.optim.adam.Adam'>, 'learning_rate': 0.004190760256845632, 'batch_size': 64, 'random_seed': 42}"
        ],
        [
         "43",
         "{'hidden_layers': [60, 260, 208, 193], 'activation_fn': <class 'torch.nn.modules.activation.ReLU'>, 'dropout_rate': 0.5, 'optimizer_type': <class 'torch.optim.adam.Adam'>, 'learning_rate': 0.002996876417041987, 'batch_size': 64, 'random_seed': 13}"
        ],
        [
         "44",
         "{'hidden_layers': [500, 360, 398, 141, 159], 'activation_fn': <class 'torch.nn.modules.activation.LeakyReLU'>, 'dropout_rate': 0.1, 'optimizer_type': <class 'torch.optim.adam.Adam'>, 'learning_rate': 0.004993040966559917, 'batch_size': 256, 'random_seed': 1337}"
        ],
        [
         "45",
         "{'hidden_layers': [203, 450], 'activation_fn': <class 'torch.nn.modules.activation.Sigmoid'>, 'dropout_rate': 0.1, 'optimizer_type': <class 'torch.optim.adam.Adam'>, 'learning_rate': 0.0013313673527848677, 'batch_size': 32, 'random_seed': 2024}"
        ],
        [
         "46",
         "{'hidden_layers': [95, 453, 50], 'activation_fn': <class 'torch.nn.modules.activation.LeakyReLU'>, 'dropout_rate': 0, 'optimizer_type': <class 'torch.optim.adam.Adam'>, 'learning_rate': 0.008843864362430991, 'batch_size': 1024, 'random_seed': 1337}"
        ],
        [
         "47",
         "{'hidden_layers': [337, 15, 204, 173, 374, 185], 'activation_fn': <class 'torch.nn.modules.activation.ReLU'>, 'dropout_rate': 0.1, 'optimizer_type': <class 'torch.optim.adam.Adam'>, 'learning_rate': 0.005520908399600309, 'batch_size': 256, 'random_seed': 42}"
        ],
        [
         "48",
         "{'hidden_layers': [308, 92], 'activation_fn': <class 'torch.nn.modules.activation.Sigmoid'>, 'dropout_rate': 0.2, 'optimizer_type': <class 'torch.optim.adam.Adam'>, 'learning_rate': 0.006095156828559278, 'batch_size': 128, 'random_seed': 777}"
        ],
        [
         "49",
         "{'hidden_layers': [419, 182, 257], 'activation_fn': <class 'torch.nn.modules.activation.ReLU'>, 'dropout_rate': 0.2, 'optimizer_type': <class 'torch.optim.adam.Adam'>, 'learning_rate': 0.004919377693846755, 'batch_size': 1024, 'random_seed': 1337}"
        ]
       ],
       "shape": {
        "columns": 1,
        "rows": 421
       }
      },
      "text/html": [
       "<div>\n",
       "<style scoped>\n",
       "    .dataframe tbody tr th:only-of-type {\n",
       "        vertical-align: middle;\n",
       "    }\n",
       "\n",
       "    .dataframe tbody tr th {\n",
       "        vertical-align: top;\n",
       "    }\n",
       "\n",
       "    .dataframe thead th {\n",
       "        text-align: right;\n",
       "    }\n",
       "</style>\n",
       "<table border=\"1\" class=\"dataframe\">\n",
       "  <thead>\n",
       "    <tr style=\"text-align: right;\">\n",
       "      <th></th>\n",
       "      <th>architecture</th>\n",
       "    </tr>\n",
       "  </thead>\n",
       "  <tbody>\n",
       "    <tr>\n",
       "      <th>0</th>\n",
       "      <td>{'hidden_layers': [99, 321, 349], 'activation_...</td>\n",
       "    </tr>\n",
       "    <tr>\n",
       "      <th>1</th>\n",
       "      <td>{'hidden_layers': [306, 181, 104], 'activation...</td>\n",
       "    </tr>\n",
       "    <tr>\n",
       "      <th>2</th>\n",
       "      <td>{'hidden_layers': [453, 32, 171, 244], 'activa...</td>\n",
       "    </tr>\n",
       "    <tr>\n",
       "      <th>3</th>\n",
       "      <td>{'hidden_layers': [296, 68], 'activation_fn': ...</td>\n",
       "    </tr>\n",
       "    <tr>\n",
       "      <th>4</th>\n",
       "      <td>{'hidden_layers': [167, 205, 311], 'activation...</td>\n",
       "    </tr>\n",
       "    <tr>\n",
       "      <th>...</th>\n",
       "      <td>...</td>\n",
       "    </tr>\n",
       "    <tr>\n",
       "      <th>416</th>\n",
       "      <td>{'hidden_layers': [222, 443, 333, 66], 'activa...</td>\n",
       "    </tr>\n",
       "    <tr>\n",
       "      <th>417</th>\n",
       "      <td>{'hidden_layers': [38, 296], 'activation_fn': ...</td>\n",
       "    </tr>\n",
       "    <tr>\n",
       "      <th>418</th>\n",
       "      <td>{'hidden_layers': [280, 376, 462, 110], 'activ...</td>\n",
       "    </tr>\n",
       "    <tr>\n",
       "      <th>419</th>\n",
       "      <td>{'hidden_layers': [28, 61, 454], 'activation_f...</td>\n",
       "    </tr>\n",
       "    <tr>\n",
       "      <th>420</th>\n",
       "      <td>{'hidden_layers': [103, 189], 'activation_fn':...</td>\n",
       "    </tr>\n",
       "  </tbody>\n",
       "</table>\n",
       "<p>421 rows × 1 columns</p>\n",
       "</div>"
      ],
      "text/plain": [
       "                                          architecture\n",
       "0    {'hidden_layers': [99, 321, 349], 'activation_...\n",
       "1    {'hidden_layers': [306, 181, 104], 'activation...\n",
       "2    {'hidden_layers': [453, 32, 171, 244], 'activa...\n",
       "3    {'hidden_layers': [296, 68], 'activation_fn': ...\n",
       "4    {'hidden_layers': [167, 205, 311], 'activation...\n",
       "..                                                 ...\n",
       "416  {'hidden_layers': [222, 443, 333, 66], 'activa...\n",
       "417  {'hidden_layers': [38, 296], 'activation_fn': ...\n",
       "418  {'hidden_layers': [280, 376, 462, 110], 'activ...\n",
       "419  {'hidden_layers': [28, 61, 454], 'activation_f...\n",
       "420  {'hidden_layers': [103, 189], 'activation_fn':...\n",
       "\n",
       "[421 rows x 1 columns]"
      ]
     },
     "execution_count": 10,
     "metadata": {},
     "output_type": "execute_result"
    }
   ],
   "source": [
    "import pandas as pd\n",
    "pd.DataFrame(pd.DataFrame(final_gen.generation).loc['architecture'])\n"
   ]
  },
  {
   "cell_type": "code",
   "execution_count": 12,
   "metadata": {},
   "outputs": [
    {
     "name": "stdout",
     "output_type": "stream",
     "text": [
      "Mean val_acc: 0.9484634798099763\n"
     ]
    }
   ],
   "source": [
    "# Extract val_Accuracy values\n",
    "val_accuracies = [final_gen.generation[gen]['val_acc'] for gen in final_gen.generation]\n",
    "\n",
    "# Calculate the mean val_loss\n",
    "mean_val_acc = sum(val_accuracies) / len(val_accuracies)\n",
    "# Print the mean val_loss\n",
    "print(\"Mean val_acc:\", mean_val_acc)"
   ]
  },
  {
   "cell_type": "code",
   "execution_count": 13,
   "metadata": {},
   "outputs": [
    {
     "data": {
      "text/plain": [
       "<Axes: >"
      ]
     },
     "execution_count": 13,
     "metadata": {},
     "output_type": "execute_result"
    },
    {
     "data": {
      "image/png": "[encoded data removed]",
      "text/plain": [
       "<Figure size 300x500 with 1 Axes>"
      ]
     },
     "metadata": {},
     "output_type": "display_data"
    }
   ],
   "source": [
    "plt.figure(figsize=(3,5))\n",
    "sns.boxplot(val_accuracies)"
   ]
  },
  {
   "cell_type": "code",
   "execution_count": 14,
   "metadata": {},
   "outputs": [
    {
     "ename": "NameError",
     "evalue": "name 'train_loader' is not defined",
     "output_type": "error",
     "traceback": [
      "\u001b[1;31m---------------------------------------------------------------------------\u001b[0m",
      "\u001b[1;31mNameError\u001b[0m                                 Traceback (most recent call last)",
      "Cell \u001b[1;32mIn[14], line 2\u001b[0m\n\u001b[0;32m      1\u001b[0m final_gen\u001b[38;5;241m.\u001b[39mdrop_all_except_best()\n\u001b[1;32m----> 2\u001b[0m final_gen\u001b[38;5;241m.\u001b[39mtrain_best_individual(\u001b[43mtrain_loader\u001b[49m, num_epochs\u001b[38;5;241m=\u001b[39m\u001b[38;5;241m50\u001b[39m)\n",
      "\u001b[1;31mNameError\u001b[0m: name 'train_loader' is not defined"
     ]
    }
   ],
   "source": [
    "final_gen.drop_all_except_best()\n",
    "final_gen.train_best_individual(train_loader, num_epochs=50)"
   ]
  },
  {
   "cell_type": "code",
   "execution_count": null,
   "metadata": {},
   "outputs": [
    {
     "data": {
      "text/plain": [
       "{'model': DynamicNN(\n",
       "   (network): Sequential(\n",
       "     (0): Linear(in_features=216, out_features=287, bias=True)\n",
       "     (1): LeakyReLU(negative_slope=0.01)\n",
       "     (2): Dropout(p=0.5, inplace=False)\n",
       "     (3): Linear(in_features=287, out_features=389, bias=True)\n",
       "     (4): LeakyReLU(negative_slope=0.01)\n",
       "     (5): Dropout(p=0.5, inplace=False)\n",
       "     (6): Linear(in_features=389, out_features=325, bias=True)\n",
       "     (7): LeakyReLU(negative_slope=0.01)\n",
       "     (8): Dropout(p=0.5, inplace=False)\n",
       "     (9): Linear(in_features=325, out_features=10, bias=True)\n",
       "   )\n",
       "   (criterion): CrossEntropyLoss()\n",
       " ),\n",
       " 'architecture': {'hidden_layers': [287, 389, 325],\n",
       "  'activation_fn': torch.nn.modules.activation.LeakyReLU,\n",
       "  'dropout_rate': 0.5,\n",
       "  'optimizer_type': torch.optim.adam.Adam,\n",
       "  'learning_rate': 0.003822040796383871,\n",
       "  'batch_size': 256,\n",
       "  'random_seed': 1337},\n",
       " 'train_loss': 0.016787918284535408,\n",
       " 'train_acc': 0.99375,\n",
       " 'val_loss': 0.16033610701560974,\n",
       " 'val_acc': 0.95625}"
      ]
     },
     "execution_count": 24,
     "metadata": {},
     "output_type": "execute_result"
    }
   ],
   "source": [
    "final_gen.generation[0]"
   ]
  },
  {
   "cell_type": "code",
   "execution_count": null,
   "metadata": {},
   "outputs": [],
   "source": [
    "test_loss, test_accuracy = final_gen.generation[0]['model'].evaluate(test_loader)"
   ]
  },
  {
   "cell_type": "code",
   "execution_count": null,
   "metadata": {},
   "outputs": [
    {
     "data": {
      "text/plain": [
       "(0.1422114223241806, 0.9675)"
      ]
     },
     "execution_count": 26,
     "metadata": {},
     "output_type": "execute_result"
    }
   ],
   "source": [
    "test_loss, test_accuracy"
   ]
  }
 ],
 "metadata": {
  "kernelspec": {
   "display_name": "AutoML",
   "language": "python",
   "name": "python3"
  },
  "language_info": {
   "codemirror_mode": {
    "name": "ipython",
    "version": 3
   },
   "file_extension": ".py",
   "mimetype": "text/x-python",
   "name": "python",
   "nbconvert_exporter": "python",
   "pygments_lexer": "ipython3",
   "version": "3.11.11"
  }
 },
 "nbformat": 4,
 "nbformat_minor": 2
}
